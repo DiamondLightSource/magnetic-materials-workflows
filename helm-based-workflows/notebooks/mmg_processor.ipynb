{
 "cells": [
  {
   "cell_type": "code",
   "execution_count": null,
   "id": "0552e358",
   "metadata": {
    "tags": [
     "parameters"
    ]
   },
   "outputs": [],
   "source": [
    "# parameters\n",
    "datadir = \"\"\n",
    "inpath = \"\"\n",
    "outpath = \"\""
   ]
  },
  {
   "cell_type": "markdown",
   "id": "4d8b6081",
   "metadata": {},
   "source": [
    "# Scan Processor\n",
    "\n",
    "Load a generic scan and view the output"
   ]
  },
  {
   "cell_type": "code",
   "execution_count": null,
   "id": "b06a18c7-499d-4536-8e36-fbf4cedd28d3",
   "metadata": {},
   "outputs": [],
   "source": [
    "import os\n",
    "import numpy as np\n",
    "import matplotlib.pyplot as plt\n",
    "import hdfmap\n",
    "import nexus2srs\n",
    "\n",
    "print(hdfmap.module_info())"
   ]
  },
  {
   "cell_type": "code",
   "execution_count": null,
   "id": "0ac084b9",
   "metadata": {},
   "outputs": [],
   "source": [
    "# HdfMap from NeXus file:\n",
    "hmap = hdfmap.create_nexus_map(inpath)\n",
    "with hmap.load_hdf(inpath) as nxs:\n",
    "    axes = hmap.get_data(nxs, 'axes')\n",
    "    signal = hmap.get_data(nxs, 'signal')\n",
    "    title = hmap.format_hdf(nxs, \"{entry_identifier}\\n{scan_command}\")\n",
    "axes_label = hmap.get_path('axes')\n",
    "signal_label = hmap.get_path('signal')\n",
    "# plot the data (e.g. using matplotlib)\n",
    "plt.figure()\n",
    "plt.plot(axes, signal)\n",
    "plt.xlabel(axes_label)\n",
    "plt.ylabel(signal_label)\n",
    "plt.title(title)\n",
    "\n",
    "plt.savefig('/tmp/output.png')"
   ]
  },
  {
   "cell_type": "code",
   "execution_count": null,
   "id": "88d9c494",
   "metadata": {},
   "outputs": [],
   "source": "nexus2srs.nxs2dat(inpath, '/tmp/nexus.txt')\n"
  }
 ],
 "metadata": {
  "kernelspec": {
   "display_name": "Python 3",
   "language": "python",
   "name": "python3"
  },
  "language_info": {
   "codemirror_mode": {
    "name": "ipython",
    "version": 3
   },
   "file_extension": ".py",
   "mimetype": "text/x-python",
   "name": "python",
   "nbconvert_exporter": "python",
   "pygments_lexer": "ipython3",
   "version": "3.12.6"
  }
 },
 "nbformat": 4,
 "nbformat_minor": 5
}
