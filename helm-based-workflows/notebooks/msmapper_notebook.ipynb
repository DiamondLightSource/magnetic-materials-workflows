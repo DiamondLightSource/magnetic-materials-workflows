{
 "cells": [
  {
   "cell_type": "code",
   "id": "41b9322b-f87f-4aad-ad18-8274890181ec",
   "metadata": {
    "tags": [
     "injected-parameters"
    ]
   },
   "source": [
    "datadir = \"\"\n",
    "inpath = \"/dls/science/groups/das/ExampleData/NeXus/newnexuswriter2024/i16/i16_nexus_test_04Feb25/1078060.nxs\"\n",
    "outpath = \"/dls/science/groups/das/ExampleData/NeXus/newnexuswriter2024/i16/i16_nexus_test_04Feb25/1078060_remap_test.nxs\""
   ],
   "outputs": [],
   "execution_count": null
  },
  {
   "cell_type": "markdown",
   "id": "dec41e54-cc52-4a63-9bbb-29eba933c5ec",
   "metadata": {},
   "source": [
    "# Run MSMapper and Analyse Results"
   ]
  },
  {
   "cell_type": "code",
   "id": "db850d5c-175d-4687-bfc3-13ba82e47d46",
   "metadata": {},
   "source": [
    "import sys, os\n",
    "import h5py\n",
    "import numpy as np\n",
    "import matplotlib.pyplot as plt\n",
    "\n",
    "import hdfmap\n",
    "from i16_msmapper import mapper_runner\n",
    "\n",
    "print(\"sys.path: \", sys.path)\n",
    "print(hdfmap.module_info())\n",
    "\n",
    "# set the location of msmapper\n",
    "CONFIG = '/tmp/msmapper_config'\n",
    "MSMAPPER = '/opt/msmapper/msmapper'\n",
    "mapper_runner.SHELL_CMD = ' '.join([MSMAPPER, \"-configuration\", CONFIG, \"-bean %s\"])\n",
    "\n",
    "if not os.path.exists(MSMAPPER):\n",
    "    raise ValueError(\"MSMAPPER not found\")\n",
    "\n",
    "# make config dir\n",
    "os.makedirs(CONFIG, exist_ok=True)\n",
    "\n",
    "if not outpath:\n",
    "    outpath = '/tmp/msmapper_remap.nxs'"
   ],
   "outputs": [],
   "execution_count": null
  },
  {
   "cell_type": "markdown",
   "id": "1b56a7ff-2300-4581-bc93-e52de844d018",
   "metadata": {},
   "source": [
    "## Run MSMapper"
   ]
  },
  {
   "cell_type": "code",
   "id": "f5daa166-b6b1-41b6-aaa0-d19eea54e189",
   "metadata": {},
   "source": [
    "mapper_runner.run_msmapper(\n",
    "    input_files=[inpath, ''],\n",
    "    output_file=outpath\n",
    ")\n",
    "print(f\"File created {outpath}: {os.path.isfile(outpath)}\")"
   ],
   "outputs": [],
   "execution_count": null
  },
  {
   "cell_type": "markdown",
   "id": "45fedd70-cfc3-4c82-81fe-d3bdf0ff579e",
   "metadata": {},
   "source": [
    "## Load MSMapper output"
   ]
  },
  {
   "cell_type": "code",
   "id": "959425a4-7c34-4b32-ac71-a7787a07401c",
   "metadata": {},
   "source": [
    "import h5py\n",
    "filename = os.path.basename(outpath)\n",
    "\n",
    "with h5py.File(outpath, 'r') as hdf:\n",
    "    # the following are links to the original scan file\n",
    "    scan_command = hdf['/entry0/scan_command'].asstr()[()]  # str\n",
    "    crystal = hdf['/entry0/sample/name'].asstr()[()]  # str\n",
    "    temp = hdf.get('/entry0/instrument/temperature_controller/Tsample', np.array(0))[()]  # float\n",
    "    unit_cell = np.reshape(hdf['/entry0/sample/unit_cell'], -1)  # 1D array, length 6\n",
    "    energy = hdf['/entry0/sample/beam/incident_energy'][()]  # # float\n",
    "    ubmatrix = hdf['/entry0/sample/ub_matrix'][0]  # 3D array, shape (3,3)\n",
    "    # this is the processed data\n",
    "    haxis = hdf['/processed/reciprocal_space/h-axis'][()]  # 1D array, length n\n",
    "    kaxis = hdf['/processed/reciprocal_space/k-axis'][()]  # 1D array, length m\n",
    "    laxis = hdf['/processed/reciprocal_space/l-axis'][()]  # 1D array, length o\n",
    "    volume = hdf['/processed/reciprocal_space/volume'][()]  # 3D array, shape [n,m,o]\n",
    "    # detector parameters\n",
    "    pixel_size = hdf['/entry0/instrument/pil3_100k/module/fast_pixel_direction'][()] # float, mm\n",
    "    detector_distance = hdf['/entry0/instrument/pil3_100k/transformations/origin_offset'][()] # float, mm\n",
    "\n",
    "print(f\"Loaded file: {filename} with volume shape: {volume.shape}\")"
   ],
   "outputs": [],
   "execution_count": null
  },
  {
   "metadata": {},
   "cell_type": "code",
   "source": [
    "# average angle subtended by each pixel\n",
    "solid_angle = pixel_size ** 2 / detector_distance ** 2  # sr\n",
    "if solid_angle.size > 0:\n",
    "    solid_angle = solid_angle[0]\n",
    "print(f'Each pixel is normalised by the solid angle: {solid_angle: .4g} sr')\n",
    "\n",
    "volume = volume * solid_angle"
   ],
   "id": "70d50903bd085d4f",
   "outputs": [],
   "execution_count": null
  },
  {
   "metadata": {},
   "cell_type": "code",
   "source": [
    "# Plot summed cuts\n",
    "plt.figure(figsize=[18, 8], dpi=60)\n",
    "title = f\"{filename} '{crystal}' {temp:.3g} K\\n{scan_command}\"\n",
    "plt.suptitle(title, fontsize=18)\n",
    "\n",
    "plt.subplot(131)\n",
    "plt.plot(haxis, volume.sum(axis=1).sum(axis=1))\n",
    "plt.xlabel('h-axis (r.l.u.)', fontsize=16)\n",
    "plt.ylabel('sum axes [1,2]', fontsize=16)\n",
    "\n",
    "plt.subplot(132)\n",
    "plt.plot(kaxis, volume.sum(axis=0).sum(axis=1))\n",
    "plt.xlabel('k-axis (r.l.u.)', fontsize=16)\n",
    "plt.ylabel('sum axes [0,2]', fontsize=16)\n",
    "\n",
    "plt.subplot(133)\n",
    "plt.plot(laxis, volume.sum(axis=0).sum(axis=0))\n",
    "plt.xlabel('l-axis (r.l.u.)', fontsize=16)\n",
    "plt.ylabel('sum axes [0,1]', fontsize=16)\n",
    "\n",
    "# Plot summed images\n",
    "plt.figure(figsize=[18, 8], dpi=60)\n",
    "title = f\"{filename}\\n{crystal} {temp:.3g} K: {scan_command}\"\n",
    "plt.suptitle(title, fontsize=20)\n",
    "plt.subplots_adjust(wspace=0.3)\n",
    "\n",
    "plt.subplot(131)\n",
    "K, H = np.meshgrid(kaxis, haxis)\n",
    "plt.pcolormesh(H, K, volume.sum(axis=2), shading='auto')\n",
    "plt.xlabel('h-axis (r.l.u.)', fontsize=16)\n",
    "plt.ylabel('k-axis (r.l.u.)', fontsize=16)\n",
    "plt.axis('image')\n",
    "#plt.colorbar()\n",
    "\n",
    "plt.subplot(132)\n",
    "L, H = np.meshgrid(laxis, haxis)\n",
    "plt.pcolormesh(H, L, volume.sum(axis=1), shading='auto')\n",
    "plt.xlabel('h-axis (r.l.u.)', fontsize=16)\n",
    "plt.ylabel('l-axis (r.l.u.)', fontsize=16)\n",
    "plt.axis('image')\n",
    "#plt.colorbar()\n",
    "\n",
    "plt.subplot(133)\n",
    "L, K = np.meshgrid(laxis, kaxis)\n",
    "plt.pcolormesh(K, L, volume.sum(axis=0), shading='auto')\n",
    "plt.xlabel('k-axis (r.l.u.)', fontsize=16)\n",
    "plt.ylabel('l-axis (r.l.u.)', fontsize=16)\n",
    "plt.axis('image')\n",
    "plt.colorbar()\n",
    "\n",
    "plt.show()"
   ],
   "id": "f38c5da0c9586e3",
   "outputs": [],
   "execution_count": null
  },
  {
   "metadata": {},
   "cell_type": "markdown",
   "source": [
    "## NXtransformations\n",
    "plot reciprocal space and instrument positions from NXtransformations"
   ],
   "id": "e1a47374d5420e37"
  },
  {
   "cell_type": "code",
   "id": "2d30db05-517a-4c0f-afc7-26f07b6cb72c",
   "metadata": {},
   "source": [
    "\n",
    "from i16_msmapper.nx_transformations import NXScan\n",
    "\n",
    "with h5py.File(inpath) as nxs:\n",
    "    scan = NXScan(nxs)\n",
    "    scan.plot_wavevectors()\n",
    "\n",
    "    scan.plot_instrument()\n",
    "\n",
    "    plt.show()"
   ],
   "outputs": [],
   "execution_count": null
  },
  {
   "cell_type": "code",
   "id": "cbaba31b-2948-41ae-a17f-8cc3b6a6775e",
   "metadata": {},
   "source": [],
   "outputs": [],
   "execution_count": null
  }
 ],
 "metadata": {
  "kernelspec": {
   "display_name": "Python 3 (ipykernel)",
   "language": "python",
   "name": "python3"
  },
  "language_info": {
   "codemirror_mode": {
    "name": "ipython",
    "version": 3
   },
   "file_extension": ".py",
   "mimetype": "text/x-python",
   "name": "python",
   "nbconvert_exporter": "python",
   "pygments_lexer": "ipython3",
   "version": "3.12.9"
  }
 },
 "nbformat": 4,
 "nbformat_minor": 5
}
