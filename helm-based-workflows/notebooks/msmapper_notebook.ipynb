{
 "cells": [
  {
   "cell_type": "code",
   "id": "41b9322b-f87f-4aad-ad18-8274890181ec",
   "metadata": {
    "tags": [
     "injected-parameters"
    ]
   },
   "source": [
    "datadir = \"\"\n",
    "scan_numbers = \"\"\n",
    "step = [0.002]"
   ],
   "outputs": [],
   "execution_count": null
  },
  {
   "cell_type": "markdown",
   "id": "dec41e54-cc52-4a63-9bbb-29eba933c5ec",
   "metadata": {},
   "source": [
    "# Run MSMapper and Analyse Results"
   ]
  },
  {
   "cell_type": "code",
   "id": "db850d5c-175d-4687-bfc3-13ba82e47d46",
   "metadata": {
    "ExecuteTime": {
     "end_time": "2025-08-15T07:46:27.273799Z",
     "start_time": "2025-08-15T07:46:26.563481Z"
    }
   },
   "source": [
    "import sys, os\n",
    "import shutil\n",
    "import h5py\n",
    "import numpy as np\n",
    "import matplotlib.pyplot as plt\n",
    "\n",
    "from i16_msmapper import mapper_runner, module_info\n",
    "\n",
    "print(\"sys.path: \", sys.path)\n",
    "print(module_info())\n",
    "\n",
    "# set the location of msmapper\n",
    "CONFIG = '/tmp/msmapper_config'\n",
    "MSMAPPER = '/opt/msmapper/msmapper'\n",
    "OUTPUT = '/tmp/msmapper_result.png'\n",
    "OUTPUT_NX = '/tmp/msmapper_result.nxs'\n",
    "mapper_runner.SHELL_CMD = ' '.join([MSMAPPER, \"-configuration\", CONFIG, \"-bean %s\"])\n",
    "\n",
    "if not os.path.exists(MSMAPPER):\n",
    "    raise ValueError(\"MSMAPPER not found\")\n",
    "\n",
    "# make config dir\n",
    "os.makedirs(CONFIG, exist_ok=True)\n"
   ],
   "outputs": [
    {
     "name": "stdout",
     "output_type": "stream",
     "text": [
      "Writable TEMPDIR = /tmp\n",
      "sys.path:  ['/scratch/grp66007/python/magnetic-materials-workflows', '/scratch/grp66007/software/pycharm/pycharm-2025.2/plugins/python-ce/helpers/pydev', '/scratch/grp66007/software/pycharm/pycharm-2025.2/plugins/python-ce/helpers/jupyter_debug', '/dls/science/users/grp66007/envs/mmg_toolbox/lib/python312.zip', '/dls/science/users/grp66007/envs/mmg_toolbox/lib/python3.12', '/dls/science/users/grp66007/envs/mmg_toolbox/lib/python3.12/lib-dynload', '', '/home/grp66007/.local/lib/python3.12/site-packages', '/dls/science/users/grp66007/envs/mmg_toolbox/lib/python3.12/site-packages']\n",
      "path:  \n",
      "Python version 3.12.8 | packaged by conda-forge | (main, Dec  5 2024, 14:24:40) [GCC 13.3.0]\n",
      "i16_msmapper version 1.6.2 (14/08/25)\n",
      "  msmapper version: Not available\n",
      "     numpy version: 2.2.2\n",
      "matplotlib version: 3.10.0\n",
      "hdfmap version: 1.0.0 (2025/07/23)\n",
      "   tkinter version: 8.6\n",
      "\n"
     ]
    },
    {
     "ename": "ValueError",
     "evalue": "MSMAPPER not found",
     "output_type": "error",
     "traceback": [
      "\u001B[0;31m---------------------------------------------------------------------------\u001B[0m",
      "\u001B[0;31mValueError\u001B[0m                                Traceback (most recent call last)",
      "Cell \u001B[0;32mIn[1], line 18\u001B[0m\n\u001B[1;32m     15\u001B[0m mapper_runner\u001B[38;5;241m.\u001B[39mSHELL_CMD \u001B[38;5;241m=\u001B[39m \u001B[38;5;124m'\u001B[39m\u001B[38;5;124m \u001B[39m\u001B[38;5;124m'\u001B[39m\u001B[38;5;241m.\u001B[39mjoin([MSMAPPER, \u001B[38;5;124m\"\u001B[39m\u001B[38;5;124m-configuration\u001B[39m\u001B[38;5;124m\"\u001B[39m, CONFIG, \u001B[38;5;124m\"\u001B[39m\u001B[38;5;124m-bean \u001B[39m\u001B[38;5;132;01m%s\u001B[39;00m\u001B[38;5;124m\"\u001B[39m])\n\u001B[1;32m     17\u001B[0m \u001B[38;5;28;01mif\u001B[39;00m \u001B[38;5;129;01mnot\u001B[39;00m os\u001B[38;5;241m.\u001B[39mpath\u001B[38;5;241m.\u001B[39mexists(MSMAPPER):\n\u001B[0;32m---> 18\u001B[0m     \u001B[38;5;28;01mraise\u001B[39;00m \u001B[38;5;167;01mValueError\u001B[39;00m(\u001B[38;5;124m\"\u001B[39m\u001B[38;5;124mMSMAPPER not found\u001B[39m\u001B[38;5;124m\"\u001B[39m)\n\u001B[1;32m     20\u001B[0m \u001B[38;5;66;03m# make config dir\u001B[39;00m\n\u001B[1;32m     21\u001B[0m os\u001B[38;5;241m.\u001B[39mmakedirs(CONFIG, exist_ok\u001B[38;5;241m=\u001B[39m\u001B[38;5;28;01mTrue\u001B[39;00m)\n",
      "\u001B[0;31mValueError\u001B[0m: MSMAPPER not found"
     ]
    }
   ],
   "execution_count": 1
  },
  {
   "metadata": {},
   "cell_type": "code",
   "outputs": [],
   "execution_count": null,
   "source": [
    "# Inputs\n",
    "processing_directory = os.path.join(datadir, \"processing\")\n",
    "if not os.path.isdir(datadir):\n",
    "    raise ValueError(\"data directory not found\")\n",
    "if not os.path.isdir(processing_directory):\n",
    "    raise ValueError(\"processing directory not found\")\n",
    "\n",
    "scan_numbers = np.fromstring(scan_numbers.strip('[]'), dtype=int, sep=',')\n",
    "inpath = [os.path.join(datadir, f\"{n}.nxs\") for n in scan_numbers]\n",
    "for file in inpath:\n",
    "    if not os.path.exists(file):\n",
    "        raise ValueError(f\"file not found: {file}\")\n",
    "\n",
    "if len(scan_numbers) == 1:\n",
    "    outpath = os.path.join(processing_directory, f\"{scan_numbers[0]}_workflows_msmapper.nxs\")\n",
    "else:\n",
    "    outpath = os.path.join(processing_directory, f\"{scan_numbers[0]}-{scan_numbers[-1]}_workflows_msmapper.nxs\")\n",
    "print(\"inpath: \", inpath)\n",
    "print(\"outpath: \", outpath)\n",
    "\n",
    "step = np.fromstring(step.strip('[]'), sep=',').tolist()\n",
    "print(f\"step = {step}\")"
   ],
   "id": "651e7214d5db6a7d"
  },
  {
   "cell_type": "markdown",
   "id": "1b56a7ff-2300-4581-bc93-e52de844d018",
   "metadata": {},
   "source": [
    "## Run MSMapper"
   ]
  },
  {
   "cell_type": "code",
   "id": "f5daa166-b6b1-41b6-aaa0-d19eea54e189",
   "metadata": {},
   "source": [
    "mapper_runner.run_msmapper(\n",
    "    input_files=inpath,\n",
    "    output_file=outpath,\n",
    "    step=step,\n",
    "    reduce_box=True,\n",
    "    normalisation='rc',\n",
    ")\n",
    "print(f\"File created {outpath}: {os.path.isfile(outpath)}\")\n",
    "print(f\"File size: {os.stat(outpath).st_size/1e6} MB\")\n",
    "if os.path.isfile(outpath):\n",
    "    shutil.copy(outpath, OUTPUT_NX)\n"
   ],
   "outputs": [],
   "execution_count": null
  },
  {
   "cell_type": "markdown",
   "id": "45fedd70-cfc3-4c82-81fe-d3bdf0ff579e",
   "metadata": {},
   "source": [
    "## Load MSMapper output\n",
    "View the NeXus file [here](https://myhdf5.hdfgroup.org/) (drag and drop your file)."
   ]
  },
  {
   "cell_type": "code",
   "id": "959425a4-7c34-4b32-ac71-a7787a07401c",
   "metadata": {},
   "source": [
    "filename = os.path.basename(outpath)\n",
    "\n",
    "with h5py.File(outpath, 'r') as hdf:\n",
    "    # the following are links to the original scan file\n",
    "    scan_command = hdf['/entry0/scan_command'].asstr()[()]  # str\n",
    "    crystal = hdf['/entry0/sample/name'].asstr()[()]  # str\n",
    "    temp = hdf.get('/entry0/instrument/temperature_controller/Tsample', np.array(0))[()]  # float\n",
    "    unit_cell = np.reshape(hdf['/entry0/sample/unit_cell'], -1)  # 1D array, length 6\n",
    "    energy = hdf['/entry0/sample/beam/incident_energy'][()]  # # float\n",
    "    ubmatrix = hdf['/entry0/sample/ub_matrix'][0]  # 3D array, shape (3,3)\n",
    "    # this is the processed data\n",
    "    haxis = hdf['/processed/reciprocal_space/h-axis'][()]  # 1D array, length n\n",
    "    kaxis = hdf['/processed/reciprocal_space/k-axis'][()]  # 1D array, length m\n",
    "    laxis = hdf['/processed/reciprocal_space/l-axis'][()]  # 1D array, length o\n",
    "    volume = hdf['/processed/reciprocal_space/volume'][()]  # 3D array, shape [n,m,o]\n",
    "    # detector parameters\n",
    "    pixel_size = hdf['/entry0/instrument/pil3_100k/module/fast_pixel_direction'][()] # float, mm\n",
    "    detector_distance = hdf['/entry0/instrument/pil3_100k/transformations/origin_offset'][()] # float, mm\n",
    "\n",
    "print(f\"Loaded file: {filename} with volume shape: {volume.shape}\")\n",
    "\n",
    "print(f\"scan_command: {scan_command}\")\n",
    "print(f\"crystal: {crystal}\")\n",
    "print(f\"temp: {temp}\")\n",
    "print(f\"unit_cell: {unit_cell}\")\n",
    "print(f\"energy: {energy}\")\n",
    "print(f\"ubmatrix: {ubmatrix}\")\n",
    "print(f\"haxis: {haxis.min()}:{haxis.max()} {haxis.shape}\")\n",
    "print(f\"kaxis: {kaxis.min()}:{kaxis.max()} {kaxis.shape}\")\n",
    "print(f\"laxis: {laxis.min()}:{laxis.max()} {laxis.shape}\")\n",
    "print(f\"volume: {volume.shape}\")\n",
    "print(f\"pixel_size: {pixel_size}\")\n",
    "print(f\"detector_distance: {detector_distance}\")\n"
   ],
   "outputs": [],
   "execution_count": null
  },
  {
   "metadata": {},
   "cell_type": "code",
   "source": [
    "# average angle subtended by each pixel\n",
    "solid_angle = pixel_size ** 2 / detector_distance ** 2  # sr\n",
    "if solid_angle.size > 0:\n",
    "    solid_angle = solid_angle[0]\n",
    "print(f'Each pixel is normalised by the solid angle: {solid_angle: .4g} sr')\n",
    "\n",
    "volume = volume * solid_angle"
   ],
   "id": "70d50903bd085d4f",
   "outputs": [],
   "execution_count": null
  },
  {
   "metadata": {},
   "cell_type": "code",
   "source": [
    "# Plot summed cuts\n",
    "plt.figure(figsize=(18, 8), dpi=60)\n",
    "title = f\"{filename} '{crystal}' {temp:.3g} K\\n{scan_command}\"\n",
    "plt.suptitle(title, fontsize=18)\n",
    "\n",
    "plt.subplot(131)\n",
    "plt.plot(haxis, volume.sum(axis=1).sum(axis=1))\n",
    "plt.xlabel('h-axis (r.l.u.)', fontsize=16)\n",
    "plt.ylabel('sum axes [1,2]', fontsize=16)\n",
    "\n",
    "plt.subplot(132)\n",
    "plt.plot(kaxis, volume.sum(axis=0).sum(axis=1))\n",
    "plt.xlabel('k-axis (r.l.u.)', fontsize=16)\n",
    "plt.ylabel('sum axes [0,2]', fontsize=16)\n",
    "\n",
    "plt.subplot(133)\n",
    "plt.plot(laxis, volume.sum(axis=0).sum(axis=0))\n",
    "plt.xlabel('l-axis (r.l.u.)', fontsize=16)\n",
    "plt.ylabel('sum axes [0,1]', fontsize=16)\n",
    "\n",
    "# Plot summed images\n",
    "plt.figure(figsize=(18, 8), dpi=60)\n",
    "title = f\"{filename}\\n{crystal} {temp:.3g} K: {scan_command}\"\n",
    "plt.suptitle(title, fontsize=20)\n",
    "plt.subplots_adjust(wspace=0.3)\n",
    "\n",
    "plt.subplot(131)\n",
    "K, H = np.meshgrid(kaxis, haxis)\n",
    "plt.pcolormesh(H, K, volume.sum(axis=2), shading='auto')\n",
    "plt.xlabel('h-axis (r.l.u.)', fontsize=16)\n",
    "plt.ylabel('k-axis (r.l.u.)', fontsize=16)\n",
    "plt.axis('image')\n",
    "#plt.colorbar()\n",
    "\n",
    "plt.subplot(132)\n",
    "L, H = np.meshgrid(laxis, haxis)\n",
    "plt.pcolormesh(H, L, volume.sum(axis=1), shading='auto')\n",
    "plt.xlabel('h-axis (r.l.u.)', fontsize=16)\n",
    "plt.ylabel('l-axis (r.l.u.)', fontsize=16)\n",
    "plt.axis('image')\n",
    "#plt.colorbar()\n",
    "\n",
    "plt.subplot(133)\n",
    "L, K = np.meshgrid(laxis, kaxis)\n",
    "plt.pcolormesh(K, L, volume.sum(axis=0), shading='auto')\n",
    "plt.xlabel('k-axis (r.l.u.)', fontsize=16)\n",
    "plt.ylabel('l-axis (r.l.u.)', fontsize=16)\n",
    "plt.axis('image')\n",
    "plt.colorbar()\n",
    "plt.savefig(OUTPUT)\n",
    "plt.show()"
   ],
   "id": "f38c5da0c9586e3",
   "outputs": [],
   "execution_count": null
  },
  {
   "metadata": {},
   "cell_type": "markdown",
   "source": [
    "## NXtransformations\n",
    "plot reciprocal space and instrument positions from NXtransformations"
   ],
   "id": "e1a47374d5420e37"
  },
  {
   "cell_type": "code",
   "id": "2d30db05-517a-4c0f-afc7-26f07b6cb72c",
   "metadata": {},
   "source": [
    "\n",
    "from i16_msmapper.nx_transformations import NXScan\n",
    "\n",
    "with h5py.File(inpath) as nxs:\n",
    "    scan = NXScan(nxs)\n",
    "    scan.plot_wavevectors()\n",
    "\n",
    "    scan.plot_instrument()\n",
    "\n",
    "    plt.show()"
   ],
   "outputs": [],
   "execution_count": null
  },
  {
   "cell_type": "code",
   "id": "cbaba31b-2948-41ae-a17f-8cc3b6a6775e",
   "metadata": {},
   "source": [],
   "outputs": [],
   "execution_count": null
  }
 ],
 "metadata": {
  "kernelspec": {
   "display_name": "Python 3 (ipykernel)",
   "language": "python",
   "name": "python3"
  },
  "language_info": {
   "codemirror_mode": {
    "name": "ipython",
    "version": 3
   },
   "file_extension": ".py",
   "mimetype": "text/x-python",
   "name": "python",
   "nbconvert_exporter": "python",
   "pygments_lexer": "ipython3",
   "version": "3.12.9"
  }
 },
 "nbformat": 4,
 "nbformat_minor": 5
}
