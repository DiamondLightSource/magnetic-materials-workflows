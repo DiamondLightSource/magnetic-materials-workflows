{
 "cells": [
  {
   "cell_type": "markdown",
   "id": "ea95a75c-ab66-4cd5-bcc3-2daa8f7bc358",
   "metadata": {},
   "source": [
    "# XAS Notebook\n",
    "\n",
    "The XAS Notebook autoprocessor will run automatically on every scan performed that contains the [NXxas](https://manual.nexusformat.org/classes/applications/NXxas.html#nxxas) sub-entry.\n",
    "\n",
    "A simple analysis and plot of the data is provided.\n",
    "\n",
    "Note: [mmg_toolbox](https://github.com/DanPorter/mmg_toolbox) is in active development and likely to change in the future, therefore please don't rely to heavily on the functions at this point. You can see how everything works at the repository. If you have any comments, please do get in touch!"
   ]
  },
  {
   "cell_type": "code",
   "execution_count": null,
   "id": "42f203e1",
   "metadata": {
    "tags": [
     "parameters"
    ]
   },
   "outputs": [],
   "source": [
    "# Processor requirements\n",
    "inpath = \"\""
   ]
  },
  {
   "cell_type": "code",
   "execution_count": null,
   "id": "ef4acc26-df0a-43d2-9c90-3dd908def7a0",
   "metadata": {},
   "outputs": [],
   "source": [
    "import sys, os\n",
    "import numpy as np\n",
    "import matplotlib.pyplot as plt\n",
    "\n",
    "import hdfmap\n",
    "print(hdfmap.module_info())\n",
    "\n",
    "# Set environment variables\n",
    "os.environ[\"MPLCONFIGDIR\"] = \"/tmp/.config/matplotlib\"\n",
    "\n",
    "# Ensure the directories exist\n",
    "os.makedirs(os.environ[\"MPLCONFIGDIR\"], exist_ok=True)\n",
    "\n",
    "from mmg_toolbox.env_functions import get_scan_number, replace_scan_number\n",
    "from mmg_toolbox.spectra_scan import SpectraScan, find_pol_pairs, is_nxxas\n"
   ]
  },
  {
   "cell_type": "code",
   "execution_count": null,
   "id": "591f3860-45f7-4545-9a8c-d58e27d9782e",
   "metadata": {},
   "outputs": [],
   "source": [
    "# Load data from NeXus file using HdfMap\n",
    "\n",
    "nxs_map = hdfmap.create_nexus_map(inpath)\n",
    "\n",
    "with nxs_map.load_hdf() as nxs:\n",
    "    def rd(expr, default=''):\n",
    "        return nxs_map.format_hdf(nxs, expr, default=default)\n",
    "\n",
    "    # currently accounts for i06-1 and i10-1 metadata\n",
    "    metadata = {\n",
    "        \"scan\": rd('{filename}'),\n",
    "        \"cmd\": rd('{(cmd|user_command|scan_command)}'),\n",
    "        \"title\": rd('{title}', os.path.basename(inpath)),\n",
    "        \"endstation\": rd('{end_station}', 'unknown'),\n",
    "        \"sample\": rd('{sample_name}', ''),\n",
    "        \"energy\": rd('{np.mean((fastEnergy|pgm_energy|energye|energyh)):.2f} eV'),\n",
    "        \"pol\": rd('{polarisation?(\"lh\")}'),\n",
    "        \"height\": rd('{(em_y|hfm_y|scm_y?(0)):.2f}', 0),\n",
    "        \"pitch\": rd('{(em_pitch|hfm_pitch|m7_pitch?(0)):.2f}', 0),\n",
    "        \"temperature\": rd('{(T_sample|sample_temperature|lakeshore336_cryostat|lakeshore336_sample|itc3_device_sensor_temp?(300)):.2f} K'),\n",
    "        \"field\": rd('{(field_z|sample_field|magnet_field|ips_demand_field?(0)):.2f} T'),\n",
    "    }\n",
    "\n",
    "    print(nxs_map.eval(nxs, '_(fastEnergy|pgm_energy|energye|energyh)'))\n",
    "    print(nxs_map.eval(nxs, '_(C2|ca62sr|mcs16_data|mcse16_data|mcsh16_data)'))\n",
    "    print(nxs_map.eval(nxs, '_(C1|ca61sr|mcs17_data|mcse17_data|mcsh17_data)'))\n",
    "    print(nxs_map.eval(nxs, '_(C3|ca63sr|mcs18_data|mcse18_data|mcsh18_data|mcsd18_data)'))\n",
    "\n",
    "    energy = nxs_map.eval(nxs, '(fastEnergy|pgm_energy|energye|energyh)')\n",
    "    monitor = nxs_map.eval(nxs, '(C2|ca62sr|mcs16_data|mcse16_data|mcsh16_data)', default=1.0)\n",
    "    tey = nxs_map.eval(nxs, '(C1|ca61sr|mcs17_data|mcse17_data|mcsh17_data)', default=np.ones(nxs_map.scannables_shape())) / monitor\n",
    "    tfy = nxs_map.eval(nxs, '(C3|ca63sr|mcs18_data|mcse18_data|mcsh18_data|mcsd18_data)', default=np.ones(nxs_map.scannables_shape())) / monitor\n",
    "\n",
    "print('\\n'.join(f\"{n:12}: {d}\" for n, d in metadata.items()))\n",
    "\n",
    "title = \"{endstation} {sample} {scan}\\nE = {energy}, pol = {pol}, T = {temperature}, B = {field}\".format(**metadata)"
   ]
  },
  {
   "cell_type": "code",
   "execution_count": null,
   "id": "d8849732",
   "metadata": {},
   "outputs": [],
   "source": [
    "# Load data from NeXus file from NXxas sub-entry\n",
    "\"\"\"\n",
    "import h5py \n",
    "with h5py.File(inpath, 'r') as nxs:\n",
    "    # first entry\n",
    "    entry = next(group for path, group in nxs.items() if group.attrs.get('NX_class', b'') == b'NXentry')\n",
    "    nxxas = next(group for path, group in entry.items() if group.attrs.get('NX_class', b'') == b'NXsubentry' and group.get('definition').asstr()[()] == 'NXxas')\n",
    "    print(f\"NXxas path: \\n{nxxas.name}\")\n",
    "    print(f\"  {'\\n  '.join(nxxas.keys())}\")\n",
    "\n",
    "    monitor = nxxas['monitor']['data'][()] if 'data' in nxxas['monitor'] else 1.0\n",
    "    data = nxxas['data']  # or 'tey', 'tfy_ft'\n",
    "    mode = data['mode'][()]\n",
    "    energy = data['energy'][()]\n",
    "    absorbed_beam = data['absorbed_beam'][()] / monitor\n",
    "    tey = nxxas['tey']['absorbed_beam'][()] / monitor\n",
    "    tfy = nxxas['tfy']['absorbed_beam'][()] / monitor\n",
    "\"\"\"\n"
   ]
  },
  {
   "cell_type": "code",
   "execution_count": null,
   "id": "28b6a641-8f85-4c76-ae2a-ed2e6f588dce",
   "metadata": {},
   "outputs": [],
   "source": [
    "fig, ax = plt.subplots(1, 2, figsize=(12, 4))\n",
    "fig.suptitle(title)\n",
    "\n",
    "ax[0].plot(energy, tey, '-', label=f\"{metadata['pol']} TEY\")\n",
    "ax[1].plot(energy, tfy, '-', label=f\"{metadata['pol']} TFY\")\n",
    "\n",
    "ax[0].set_xlabel('Energy [eV]')\n",
    "ax[0].set_ylabel('signal / monitor')\n",
    "ax[0].legend()\n",
    "\n",
    "ax[1].set_xlabel('Energy [eV]')\n",
    "ax[1].set_ylabel('signal / monitor')\n",
    "ax[1].legend()"
   ]
  },
  {
   "cell_type": "markdown",
   "id": "6a75d026-7605-4745-ab45-c17bb254bb8c",
   "metadata": {},
   "source": [
    "# Search for previous NXxas scans\n",
    "If the previous scan was also a spectra scan, plot this and take the difference"
   ]
  },
  {
   "cell_type": "code",
   "execution_count": null,
   "id": "8f052bf9-4e7d-4fb6-8d26-d744268a0844",
   "metadata": {},
   "outputs": [],
   "source": [
    "# Build list of scans\n",
    "scan_number = get_scan_number(inpath)\n",
    "scans = []\n",
    "while len(scans) < 9:\n",
    "    filename = replace_scan_number(inpath, scan_number)\n",
    "    scan_number -= 1\n",
    "    if is_nxxas(filename):\n",
    "        scans.append(SpectraScan(filename))  # Load scan data\n",
    "    else:\n",
    "        break\n",
    "\n",
    "for scan in scans:\n",
    "    print(scan, '\\n')\n",
    "\n",
    "# Get polarisations\n",
    "pols = {scan.pol for scan in scans}\n",
    "print(f\"Polarisations: {pols}\")"
   ]
  },
  {
   "cell_type": "code",
   "execution_count": null,
   "id": "3942b136-9d23-4065-b35a-2d39a4c50887",
   "metadata": {},
   "outputs": [],
   "source": [
    "# Plot raw spectra\n",
    "fig, (ax1, ax2) = plt.subplots(1, 2, figsize=[12, 6], dpi=100)\n",
    "for scan in scans:\n",
    "    scan.tey.plot(ax1)\n",
    "    scan.tfy.plot(ax2)\n",
    "\n",
    "ax1.set_xlabel('E [eV]')\n",
    "ax1.set_ylabel('TEY / monitor')\n",
    "ax2.set_xlabel('E [eV]')\n",
    "ax2.set_ylabel('TFY / monitor')\n",
    "ax1.legend()\n",
    "ax2.legend()"
   ]
  },
  {
   "cell_type": "code",
   "execution_count": null,
   "id": "380001c6-950d-468f-92e0-aec5099f910d",
   "metadata": {},
   "outputs": [],
   "source": []
  },
  {
   "cell_type": "code",
   "execution_count": null,
   "id": "7a13e382-a30e-4b19-86c0-34e1604c7112",
   "metadata": {},
   "outputs": [],
   "source": [
    "# Subtract background and normalise\n",
    "# background options: flat, norm, linear, curve, exp\n",
    "# normalisation option: .norm_to_jump(), .norm_to_peak()\n",
    "rem_bkg = [s.remove_background('flat').norm_to_jump() for s in scans]\n",
    "\n",
    "# Plot background subtracted, normalised spectra\n",
    "for scan in rem_bkg:\n",
    "    # print(scan, '\\n')\n",
    "    fig, (ax1, ax2) = plt.subplots(1, 2, figsize=[12, 6], dpi=100)\n",
    "    scan.tey.plot(ax1)\n",
    "    scan.tey.plot_bkg(ax1)\n",
    "    scan.tfy.plot(ax2)\n",
    "    scan.tfy.plot_bkg(ax2)\n",
    "\n",
    "    ax1.set_xlabel('E [eV]')\n",
    "    ax1.set_ylabel('TEY / monitor')\n",
    "    ax2.set_xlabel('E [eV]')\n",
    "    ax2.set_ylabel('TFY / monitor')\n",
    "    ax1.legend()\n",
    "    ax2.legend()"
   ]
  },
  {
   "cell_type": "code",
   "execution_count": null,
   "id": "5d66604e-7dd5-4675-912f-88ccd5d5ee3e",
   "metadata": {},
   "outputs": [],
   "source": [
    "# Find polarisation pairs within the scans\n",
    "if len(scans) > 1 and len(pols) > 1:\n",
    "    pairs = find_pol_pairs(*rem_bkg)\n",
    "    \n",
    "    for pair in pairs:\n",
    "        print(pair)\n",
    "    \n",
    "        # pair.create_figure()\n",
    "        fig, (ax1, ax2) = plt.subplots(1, 2, figsize=[12, 6], dpi=100)\n",
    "        fig.suptitle(pair.description)\n",
    "    \n",
    "        pair.spectra1.tey.plot_parents(ax1)  # background subtracted spectra\n",
    "        pair.spectra2.tey.plot_parents(ax1)\n",
    "        pair.tey.plot(ax1)  # XMCD/XMLD\n",
    "    \n",
    "        pair.spectra1.tfy.plot_parents(ax2)\n",
    "        pair.spectra2.tfy.plot_parents(ax2)\n",
    "        pair.tfy.plot(ax2)\n",
    "    \n",
    "        ax1.set_xlabel('E [eV]')\n",
    "        ax1.set_ylabel('TEY / monitor')\n",
    "        ax2.set_xlabel('E [eV]')\n",
    "        ax2.set_ylabel('TFY / monitor')\n",
    "        ax1.legend()\n",
    "        ax2.legend()"
   ]
  },
  {
   "cell_type": "code",
   "execution_count": null,
   "id": "8869991d-3b3a-4e36-ba22-afd75ad296c4",
   "metadata": {},
   "outputs": [],
   "source": [
    "# Average each polarisation of all scans\n",
    "if len(scans) > 1 and len(pols) > 1:\n",
    "    pol1 = [pair.spectra1 for pair in pairs]\n",
    "    pol2 = [pair.spectra2 for pair in pairs]\n",
    "    av_pol1 = sum(pol1[1:], pol1[0])\n",
    "    av_pol2 = sum(pol2[1:], pol2[0])\n",
    "    diff = av_pol1 - av_pol2\n",
    "    print(diff)\n",
    "    \n",
    "    # diff.create_figure()\n",
    "    fig, (ax1, ax2) = plt.subplots(1, 2, figsize=[12, 6], dpi=100)\n",
    "    fig.suptitle(diff.description)\n",
    "    \n",
    "    diff.spectra1.tey.plot_parents(ax1)\n",
    "    diff.spectra2.tey.plot_parents(ax1)\n",
    "    diff.tey.plot(ax1)\n",
    "    \n",
    "    diff.spectra1.tfy.plot_parents(ax2)\n",
    "    diff.spectra2.tfy.plot_parents(ax2)\n",
    "    diff.tfy.plot(ax2)\n",
    "    \n",
    "    ax1.set_xlabel('E [eV]')\n",
    "    ax1.set_ylabel('TEY / monitor')\n",
    "    ax2.set_xlabel('E [eV]')\n",
    "    ax2.set_ylabel('TFY / monitor')\n",
    "    ax1.legend()\n",
    "    ax2.legend()"
   ]
  },
  {
   "cell_type": "code",
   "execution_count": null,
   "id": "7e39fae3-b0ed-4aaf-be8c-a872d250bf5c",
   "metadata": {},
   "outputs": [],
   "source": []
  }
 ],
 "metadata": {
  "kernelspec": {
   "display_name": "Python 3",
   "language": "python",
   "name": "python3"
  },
  "language_info": {
   "codemirror_mode": {
    "name": "ipython",
    "version": 3
   },
   "file_extension": ".py",
   "mimetype": "text/x-python",
   "name": "python",
   "nbconvert_exporter": "python",
   "pygments_lexer": "ipython3",
   "version": "3.12.9"
  }
 },
 "nbformat": 4,
 "nbformat_minor": 5
}
