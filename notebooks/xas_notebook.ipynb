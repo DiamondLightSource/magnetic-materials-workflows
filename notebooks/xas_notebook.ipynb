{
 "cells": [
  {
   "cell_type": "code",
   "execution_count": null,
   "id": "53afb7c6",
   "metadata": {
    "execution": {
     "iopub.execute_input": "2025-08-03T13:27:38.004053Z",
     "iopub.status.busy": "2025-08-03T13:27:38.003762Z",
     "iopub.status.idle": "2025-08-03T13:27:38.009268Z",
     "shell.execute_reply": "2025-08-03T13:27:38.008642Z"
    },
    "tags": [
     "injected-parameters"
    ]
   },
   "outputs": [],
   "source": [
    "# Parameters\n",
    "inpath = \"\"\n",
    "outpath = \"\"\n"
   ]
  },
  {
   "cell_type": "markdown",
   "id": "ea95a75c-ab66-4cd5-bcc3-2daa8f7bc358",
   "metadata": {
    "papermill": {},
    "tags": []
   },
   "source": [
    "# XAS Notebook\n",
    "\n",
    "The XAS Notebook autoprocessor will run automatically on every scan performed that contains the [NXxas](https://manual.nexusformat.org/classes/applications/NXxas.html#nxxas) sub-entry.\n",
    "\n",
    "A simple analysis and plot of the data is provided.\n",
    "\n",
    "Note: [mmg_toolbox](https://github.com/DanPorter/mmg_toolbox) is in active development and likely to change in the future, therefore please don't rely to heavily on the functions at this point. You can see how everything works at the repository. If you have any comments, please do get in touch!"
   ]
  },
  {
   "cell_type": "code",
   "execution_count": null,
   "id": "ef4acc26-df0a-43d2-9c90-3dd908def7a0",
   "metadata": {
    "execution": {
     "iopub.execute_input": "2025-08-03T13:27:38.011812Z",
     "iopub.status.busy": "2025-08-03T13:27:38.011566Z",
     "iopub.status.idle": "2025-08-03T13:27:41.679261Z",
     "shell.execute_reply": "2025-08-03T13:27:41.678851Z"
    },
    "papermill": {},
    "tags": []
   },
   "outputs": [],
   "source": [
    "import sys, os\n",
    "import numpy as np\n",
    "import matplotlib.pyplot as plt\n",
    "\n",
    "import hdfmap  # available via pip install hdfmap\n",
    "print(hdfmap.module_info())\n"
   ]
  },
  {
   "cell_type": "code",
   "execution_count": null,
   "id": "591f3860-45f7-4545-9a8c-d58e27d9782e",
   "metadata": {
    "execution": {
     "iopub.execute_input": "2025-08-03T13:27:41.681291Z",
     "iopub.status.busy": "2025-08-03T13:27:41.681022Z",
     "iopub.status.idle": "2025-08-03T13:27:42.155957Z",
     "shell.execute_reply": "2025-08-03T13:27:42.154863Z"
    },
    "papermill": {},
    "tags": []
   },
   "outputs": [],
   "source": [
    "# Load data from NeXus file using HdfMap\n",
    "# Works across multiple NeXus file types - i06, i10 etc\n",
    "\n",
    "nxs_map = hdfmap.create_nexus_map(inpath)\n",
    "\n",
    "with nxs_map.load_hdf() as nxs:\n",
    "    def rd(expr, default=''):\n",
    "        return nxs_map.format_hdf(nxs, expr, default=default)\n",
    "\n",
    "    # currently accounts for i06-1 and i10-1 metadata\n",
    "    metadata = {\n",
    "        \"scan\": rd('{filename}'),\n",
    "        \"cmd\": rd('{(cmd|user_command|scan_command)}'),\n",
    "        \"title\": rd('{title}', os.path.basename(inpath)),\n",
    "        \"endstation\": rd('{end_station}', 'unknown'),\n",
    "        \"sample\": rd('{sample_name}', ''),\n",
    "        \"energy\": rd('{mean((fastEnergy|pgm_energy|energye|energyh)):.2f} eV'),\n",
    "        \"pol\": rd('{polarisation?(\"lh\")}'),\n",
    "        \"height\": rd('{(em_y|hfm_y):.2f}', 0),\n",
    "        \"pitch\": rd('{(em_pitch|hfm_pitch):.2f}', 0),\n",
    "        \"temperature\": rd('{(T_sample|sample_temperature|lakeshore336_cryostat|lakeshore336_sample|itc3_device_sensor_temp?(300)):.2f} K'),\n",
    "        \"field\": rd('{(field_z|sample_field|magnet_field|ips_demand_field?(0)):.2f} T'),\n",
    "    }\n",
    "\n",
    "    print('Scan data paths:')\n",
    "    print('energy: ', nxs_map.eval(nxs, '_(fastEnergy|pgm_energy|energye|energyh)'))\n",
    "    print('monitor: ', nxs_map.eval(nxs, '_(C2|ca62sr|mcs16_data|mcse16_data|mcsh16_data)'))\n",
    "    print('tey: ', nxs_map.eval(nxs, '_(C1|ca61sr|mcs17_data|mcse17_data|mcsh17_data)'))\n",
    "    print('tfy: ', nxs_map.eval(nxs, '_(C3|ca63sr|mcs18_data|mcse18_data|mcsh18_data|mcsd18_data)'))\n",
    "\n",
    "    energy = nxs_map.eval(nxs, '(fastEnergy|pgm_energy|energye|energyh)')\n",
    "    monitor = nxs_map.eval(nxs, '(C2|ca62sr|mcs16_data|mcse16_data|mcsh16_data)', default=1.0)\n",
    "    tey = nxs_map.eval(nxs, '(C1|ca61sr|mcs17_data|mcse17_data|mcsh17_data)', default=np.ones(nxs_map.scannables_shape())) / monitor\n",
    "    tfy = nxs_map.eval(nxs, '(C3|ca63sr|mcs18_data|mcse18_data|mcsh18_data|mcsd18_data)', default=np.ones(nxs_map.scannables_shape())) / monitor\n",
    "\n",
    "print('\\nMetadata:')\n",
    "print('\\n'.join(f\"{n:12}: {d}\" for n, d in metadata.items()))\n",
    "\n",
    "title = \"{endstation} {sample} {scan}\\nE = {energy}, pol = {pol}, T = {temperature}, B = {field}\".format(**metadata)\n",
    "print('\\ntitle: ', title)"
   ]
  },
  {
   "cell_type": "code",
   "execution_count": null,
   "id": "28b6a641-8f85-4c76-ae2a-ed2e6f588dce",
   "metadata": {
    "papermill": {},
    "tags": []
   },
   "outputs": [],
   "source": [
    "fig, ax = plt.subplots(1, 2, figsize=(12, 4))\n",
    "fig.suptitle(title)\n",
    "\n",
    "ax[0].plot(energy, tey, '-', label=f\"{metadata['pol']} TEY\")\n",
    "ax[1].plot(energy, tfy, '-', label=f\"{metadata['pol']} TFY\")\n",
    "\n",
    "ax[0].set_xlabel('Energy [eV]')\n",
    "ax[0].set_ylabel('signal / monitor')\n",
    "ax[0].legend()\n",
    "\n",
    "ax[1].set_xlabel('Energy [eV]')\n",
    "ax[1].set_ylabel('signal / monitor')\n",
    "ax[1].legend()"
   ]
  },
  {
   "cell_type": "markdown",
   "id": "637b9a5d462537a4",
   "metadata": {
    "papermill": {},
    "tags": []
   },
   "source": [
    "# Analyse absorption edge\n",
    "\n",
    "1. normalise by pre-edge\n",
    "2. fit step-edge background\n",
    "3. remove background and normalise to step-edge\n",
    "4. save NeXus file"
   ]
  },
  {
   "cell_type": "code",
   "execution_count": null,
   "id": "b7085d5ef8fe9487",
   "metadata": {
    "papermill": {},
    "tags": []
   },
   "outputs": [],
   "source": [
    "# Get absorption edge from energy\n",
    "from mmg_toolbox.spectra_analysis import energy_range_edge_label, xray_edges_in_range\n",
    "\n",
    "print(f\"Absorption edges between: {energy.min()}, {energy.max()} eV\")\n",
    "print('\\n'.join(f\"{en} eV : {lab}\" for en, lab in xray_edges_in_range(energy.min(), energy.max(), search_edges=None)))\n",
    "\n",
    "edge_label = energy_range_edge_label(energy.min(), energy.max())\n",
    "print('Automatically determined absorption edge:')\n",
    "print(f\"\\nEdge label: {' '.join(edge_label)}\")"
   ]
  },
  {
   "cell_type": "code",
   "execution_count": null,
   "id": "3088bdf380a6035a",
   "metadata": {
    "papermill": {},
    "tags": []
   },
   "outputs": [],
   "source": [
    "# Load scan as Spectra object\n",
    "from mmg_toolbox.nxxas_loader import load_from_nxs_using_hdfmap\n",
    "scan = load_from_nxs_using_hdfmap(inpath)\n",
    "print(scan)"
   ]
  },
  {
   "cell_type": "code",
   "execution_count": null,
   "id": "2c0051c89be1ab1f",
   "metadata": {
    "papermill": {},
    "tags": []
   },
   "outputs": [],
   "source": [
    "# Plot raw spectra\n",
    "fig, axes = plt.subplots(1, 2, figsize=(12, 6), dpi=80)\n",
    "fig.suptitle('raw scan files')\n",
    "for n, (mode, spectra) in enumerate(scan.spectra.items()):\n",
    "    spectra.plot(ax=axes[n], label=scan.name)\n",
    "    axes[n].set_ylabel(mode)\n",
    "\n",
    "for ax in axes.flat:\n",
    "    ax.set_xlabel('E [eV]')\n",
    "    ax.legend()"
   ]
  },
  {
   "cell_type": "code",
   "execution_count": null,
   "id": "2d5240bb43fa08a8",
   "metadata": {
    "papermill": {},
    "tags": []
   },
   "outputs": [],
   "source": [
    "# 1. Normalise by pre-edge\n",
    "scan.divide_by_preedge()\n",
    "\n",
    "# plot scan normalised scan files\n",
    "fig, axes = plt.subplots(1, 2, figsize=(12, 6), dpi=80)\n",
    "fig.suptitle('Normalise by pre-edge')\n",
    "for n, (mode, spectra) in enumerate(scan.spectra.items()):\n",
    "    spectra.plot(ax=axes[n], label=scan.name)\n",
    "    axes[n].set_ylabel(mode)\n",
    "\n",
    "for ax in axes.flat:\n",
    "    ax.set_xlabel('E [eV]')\n",
    "    ax.legend()\n"
   ]
  },
  {
   "cell_type": "code",
   "execution_count": null,
   "id": "d2213638d34c4e9c",
   "metadata": {
    "papermill": {},
    "tags": []
   },
   "outputs": [],
   "source": [
    "# 2. Fit and subtract background\n",
    "scan.auto_edge_background(peak_width_ev=10.)\n",
    "\n",
    "# Plot background subtracted scans\n",
    "fig, axes = plt.subplots(2, 2, figsize=(12, 10), dpi=80)\n",
    "fig.suptitle(scan.name)\n",
    "for n, (mode, spectra) in enumerate(scan.spectra.items()):\n",
    "    spectra.plot_parents(ax=axes[0, n])\n",
    "    spectra.plot_bkg(ax=axes[0, n])\n",
    "    axes[0, n].set_ylabel(mode)\n",
    "\n",
    "    spectra.plot(ax=axes[1, n], label=scan.name)\n",
    "    axes[1, n].set_ylabel(mode)\n",
    "\n",
    "for ax in axes.flat:\n",
    "    ax.set_xlabel('E [eV]')\n",
    "    ax.legend()"
   ]
  },
  {
   "cell_type": "code",
   "execution_count": null,
   "id": "c07be3030a891b6d",
   "metadata": {
    "papermill": {},
    "tags": []
   },
   "outputs": [],
   "source": [
    "# 4. Save Nexus file\n",
    "#scan.write_nexus(outpath)"
   ]
  },
  {
   "cell_type": "markdown",
   "id": "1bcb56e2d5056c66",
   "metadata": {
    "papermill": {},
    "tags": []
   },
   "source": [
    "# Search for previous NXxas scans\n",
    "If the previous scan was also a spectra scan, plot this and take the difference"
   ]
  },
  {
   "cell_type": "code",
   "execution_count": null,
   "id": "26f8e3c0406c8852",
   "metadata": {
    "papermill": {},
    "tags": []
   },
   "outputs": [],
   "source": [
    "from mmg_toolbox.nxxas_loader import find_similar_measurements\n",
    "\n",
    "# check previous ~10 scans and build a list of energy scans at the same edge, temperature and field\n",
    "# see help(find_similar_measurements) for more info\n",
    "scans = find_similar_measurements(inpath)\n",
    "pols = {s.metadata.pol for s in scans}\n",
    "\n",
    "print(f\"Unique polarisations: {pols}\")\n",
    "\n",
    "if len(pols) > 1:\n",
    "    print('\\n\\n'.join(str(s) for s in scans))\n",
    "else:\n",
    "    print('Not enough polarisations')"
   ]
  },
  {
   "cell_type": "code",
   "execution_count": null,
   "id": "f8a6f6a10b6098cc",
   "metadata": {
    "papermill": {},
    "tags": []
   },
   "outputs": [],
   "source": [
    "# Repeat steps 1-3 for each scan\n",
    "if len(pols) > 1:\n",
    "    for scan in scans:\n",
    "        scan.divide_by_preedge()\n",
    "        print(scan)\n",
    "\n",
    "    # plot scan normalised scan files\n",
    "    fig, axes = plt.subplots(1, 2, figsize=(12, 6), dpi=80)\n",
    "    fig.suptitle('Normalise by pre-edge')\n",
    "    for scan in scans:\n",
    "        for n, (mode, spectra) in enumerate(scan.spectra.items()):\n",
    "            spectra.plot(ax=axes[n], label=scan.name)\n",
    "            axes[n].set_ylabel(mode)\n",
    "\n",
    "    for ax in axes.flat:\n",
    "        ax.set_xlabel('E [eV]')\n",
    "        ax.legend()\n",
    "else:\n",
    "    print('Not enough polarisations')\n"
   ]
  },
  {
   "cell_type": "code",
   "execution_count": null,
   "id": "a3f2c62d23366efd",
   "metadata": {
    "papermill": {},
    "tags": []
   },
   "outputs": [],
   "source": [
    "# Fit and subtract background\n",
    "if len(pols) > 1:\n",
    "    for scan in scans:\n",
    "        scan.auto_edge_background(peak_width_ev=10.)\n",
    "\n",
    "    # Plot background subtracted scans\n",
    "    for scan in scans:\n",
    "        fig, axes = plt.subplots(2, 2, figsize=(12, 10), dpi=80)\n",
    "        fig.suptitle(scan.name)\n",
    "        for n, (mode, spectra) in enumerate(scan.spectra.items()):\n",
    "            spectra.plot_parents(ax=axes[0, n])\n",
    "            spectra.plot_bkg(ax=axes[0, n])\n",
    "            axes[0, n].set_ylabel(mode)\n",
    "\n",
    "            spectra.plot(ax=axes[1, n], label=scan.name)\n",
    "            axes[1, n].set_ylabel(mode)\n",
    "\n",
    "        for ax in axes.flat:\n",
    "            ax.set_xlabel('E [eV]')\n",
    "            ax.legend()\n"
   ]
  },
  {
   "cell_type": "code",
   "execution_count": null,
   "id": "a1a4d751c86d425d",
   "metadata": {
    "papermill": {},
    "tags": []
   },
   "outputs": [],
   "source": [
    "if len(pols) > 1:\n",
    "    from mmg_toolbox.spectra_container import average_polarised_scans\n",
    "\n",
    "    # Average polarised scans\n",
    "    for scan in scans:\n",
    "        print(f\"{scan.name}: {scan.metadata.pol}\")\n",
    "    pol1, pol2 = average_polarised_scans(*scans)\n",
    "    print(pol1)\n",
    "    print(pol2)\n",
    "\n",
    "    # Plot averaged scans\n",
    "    fig, axes = plt.subplots(1, 2, figsize=(12, 6), dpi=80)\n",
    "    fig.suptitle('Averaged polarised scans')\n",
    "    for scan in [pol1, pol2]:\n",
    "        for n, (mode, spectra) in enumerate(scan.spectra.items()):\n",
    "            spectra.plot(ax=axes[n], label=scan.name)\n",
    "            axes[n].set_ylabel(mode)\n",
    "\n",
    "    for ax in axes.flat:\n",
    "        ax.set_xlabel('E [eV]')\n",
    "        ax.legend()\n"
   ]
  },
  {
   "cell_type": "markdown",
   "id": "b8309f336eb702d5",
   "metadata": {
    "papermill": {},
    "tags": []
   },
   "source": [
    "# Calculate XMCD/XMLD"
   ]
  },
  {
   "cell_type": "code",
   "execution_count": null,
   "id": "5dac5be931118086",
   "metadata": {
    "papermill": {},
    "tags": []
   },
   "outputs": [],
   "source": [
    "if len(pols) > 1:\n",
    "    # Calculate XMCD\n",
    "    xmcd = pol1 - pol2\n",
    "    print(xmcd)\n",
    "\n",
    "    for name, spectra in xmcd.spectra.items():\n",
    "        print(spectra)\n",
    "        print(spectra.process)\n",
    "        print(spectra.sum_rules_report(1))\n"
   ]
  },
  {
   "cell_type": "code",
   "execution_count": null,
   "id": "35271f455436913c",
   "metadata": {
    "papermill": {},
    "tags": []
   },
   "outputs": [],
   "source": [
    "if len(pols) > 1:\n",
    "    fig, axes = plt.subplots(1, 2, figsize=(12, 6), dpi=80)\n",
    "    fig.suptitle(xmcd.name.upper())\n",
    "    for n, (mode, spectra) in enumerate(xmcd.spectra.items()):\n",
    "        spectra.plot(ax=axes[n])\n",
    "        axes[n].set_ylabel(mode)\n",
    "\n",
    "    for ax in axes.flat:\n",
    "        ax.set_xlabel('E [eV]')\n",
    "        ax.legend()"
   ]
  },
  {
   "cell_type": "code",
   "execution_count": null,
   "id": "da515a56454e3def",
   "metadata": {
    "papermill": {},
    "tags": []
   },
   "outputs": [],
   "source": [
    "if len(pols) > 1:\n",
    "    # Save xmcd file\n",
    "    xmcd_filename = f\"{scans[0].metadata.scan_no}-{scans[-1].metadata.scan_no}_{xmcd.name}.nxs\"\n",
    "    output_folder = os.path.dirname(outpath)\n",
    "    #xmcd.write_nexus(os.path.join(output_folder, xmcd_filename))"
   ]
  }
 ],
 "metadata": {
  "kernelspec": {
   "display_name": "Python 3 (ipykernel)",
   "language": "python",
   "name": "python3"
  },
  "language_info": {
   "codemirror_mode": {
    "name": "ipython",
    "version": 3
   },
   "file_extension": ".py",
   "mimetype": "text/x-python",
   "name": "python",
   "nbconvert_exporter": "python",
   "pygments_lexer": "ipython3",
   "version": "3.12.9"
  },
  "papermill": {
   "default_parameters": {},
   "environment_variables": {},
   "input_path": "/dls/i10-1/data/2025/mm39640-1/processed/notebooks/i10-1-41517_xas_notebook.ipynb",
   "output_path": "/dls/i10-1/data/2025/mm39640-1/processed/notebooks/i10-1-41517_xas_notebook.ipynb",
   "parameters": {
    "inpath": "/dls/i10-1/data/2025/mm39640-1//i10-1-41517.nxs",
    "outpath": "/dls/i10-1/data/2025/mm39640-1/processed/i10-1-41517_xas_notebook.nxs"
   },
   "version": "2.3.4"
  }
 },
 "nbformat": 4,
 "nbformat_minor": 5
}
