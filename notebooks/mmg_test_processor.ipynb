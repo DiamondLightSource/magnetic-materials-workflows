{
 "cells": [
  {
   "cell_type": "code",
   "execution_count": null,
   "id": "6bec47c2",
   "metadata": {},
   "outputs": [],
   "source": [
    "import os\n",
    "\n",
    "# Set environment variables\n",
    "os.environ[\"MPLCONFIGDIR\"] = \"/tmp/.config/matplotlib\"\n",
    "\n",
    "# Ensure the directories exist\n",
    "os.makedirs(os.environ[\"MPLCONFIGDIR\"], exist_ok=True)"
   ]
  },
  {
   "cell_type": "code",
   "execution_count": null,
   "id": "0552e358",
   "metadata": {
    "tags": [
     "parameters"
    ]
   },
   "outputs": [],
   "source": [
    "# Processor requirements\n",
    "# The first two cells must be code cells, inpath and outpath define the scan file location and output location\n",
    "inpath = \"\"\n",
    "outpath = \"\""
   ]
  },
  {
   "cell_type": "markdown",
   "id": "4d8b6081",
   "metadata": {},
   "source": [
    "# Test Processor\n",
    "\n",
    "Load some modules and see what is available"
   ]
  },
  {
   "cell_type": "code",
   "execution_count": null,
   "id": "b06a18c7-499d-4536-8e36-fbf4cedd28d3",
   "metadata": {},
   "outputs": [],
   "source": [
    "print(inpath)\n",
    "print(outpath)"
   ]
  },
  {
   "cell_type": "code",
   "execution_count": 19,
   "id": "92330199",
   "metadata": {},
   "outputs": [],
   "source": [
    "def module_info():\n",
    "    import sys\n",
    "    out = 'Python version %s' % sys.version\n",
    "    out += '\\n at: %s' % sys.executable\n",
    "    # Modules\n",
    "    import numpy\n",
    "    out += '\\n     numpy version: %s' % numpy.__version__\n",
    "    import h5py\n",
    "    out += '\\n      h5py version: %s' % h5py.__version__\n",
    "    try:\n",
    "        import imageio\n",
    "        out += '\\n   imageio version: %s' % imageio.__version__\n",
    "    except ImportError:\n",
    "        out += '\\n   imageio version: None'\n",
    "    try:\n",
    "        import hdf5plugin\n",
    "        out += '\\nhdf5plugin version: %s' % hdf5plugin.version\n",
    "    except ImportError:\n",
    "        out += '\\nhdf5plugin version: None'\n",
    "    try:\n",
    "        import matplotlib\n",
    "        out += '\\nmatplotlib version: %s' % matplotlib.__version__\n",
    "    except ImportError:\n",
    "        out += '\\nmatplotlib version: None'\n",
    "    try:\n",
    "        import lmfit\n",
    "        out += '\\n     lmfit version: %s' % lmfit.__version__\n",
    "    except ImportError:\n",
    "        out += '\\n     lmfit version: None'\n",
    "    try:\n",
    "        import hdfmap\n",
    "        out += '\\n    hdfmap version: %s' % hdfmap.__version__\n",
    "    except ImportError:\n",
    "        out += '\\n    hdfmap version: None'\n",
    "    try:\n",
    "        import nexus2srs\n",
    "        out += '\\n nexus2srs version: %s' % nexus2srs.__version__\n",
    "    except ImportError:\n",
    "        out += '\\n nexus2srs version: None'\n",
    "    \n",
    "    import os\n",
    "    out += '\\nRunning in directory: %s\\n' % os.path.abspath('.')\n",
    "    return out"
   ]
  },
  {
   "cell_type": "code",
   "execution_count": 20,
   "id": "ac437f62",
   "metadata": {},
   "outputs": [
    {
     "name": "stdout",
     "output_type": "stream",
     "text": [
      "Python version 3.11.3 | packaged by conda-forge | (main, Apr  6 2023, 08:57:19) [GCC 11.3.0]\n",
      " at: /dls_sw/apps/python/miniforge/4.10.0-0/envs/python3.11/bin/python3.11\n",
      "     numpy version: 1.24.3\n",
      "      h5py version: 3.8.0\n",
      "   imageio version: 2.28.1\n",
      "hdf5plugin version: 4.1.2\n",
      "matplotlib version: 3.7.1\n",
      "     lmfit version: 1.2.1\n",
      "    hdfmap version: 0.7.0\n",
      " nexus2srs version: None\n",
      "Running in directory: /dls_sw/i06/scripts/gda-zocalo/notebooks\n",
      "\n"
     ]
    }
   ],
   "source": [
    "print(module_info())"
   ]
  },
  {
   "cell_type": "code",
   "execution_count": 21,
   "id": "496f9973",
   "metadata": {},
   "outputs": [
    {
     "name": "stdout",
     "output_type": "stream",
     "text": [
      "['In', 'Out', '_', '_11', '__', '___', '__builtin__', '__builtins__', '__doc__', '__loader__', '__name__', '__package__', '__spec__', '_dh', '_i', '_i1', '_i10', '_i11', '_i12', '_i13', '_i14', '_i15', '_i16', '_i17', '_i18', '_i19', '_i2', '_i20', '_i21', '_i3', '_i4', '_i5', '_i6', '_i7', '_i8', '_i9', '_ih', '_ii', '_iii', '_oh', 'exit', 'get_ipython', 'inpath', 'module_info', 'open', 'outpath', 'quit']\n"
     ]
    }
   ],
   "source": [
    "print(dir())"
   ]
  },
  {
   "cell_type": "code",
   "execution_count": null,
   "id": "0ac084b9",
   "metadata": {},
   "outputs": [],
   "source": [
    "import matplotlib.pyplot as plt\n",
    "from hdfmap import create_nexus_map, load_hdf\n",
    "\n",
    "# HdfMap from NeXus file:\n",
    "hmap = create_nexus_map(inpath)\n",
    "with load_hdf(inpath) as nxs:\n",
    "    axes = hmap.get_data(nxs, 'axes')\n",
    "    signal = hmap.get_data(nxs, 'signal')\n",
    "    title = hmap.format_hdf(nxs, \"{entry_identifier}\\n{scan_command}\")\n",
    "axes_label = hmap.get_path('axes')\n",
    "signal_label = hmap.get_path('signal')\n",
    "# plot the data (e.g. using matplotlib)\n",
    "plt.figure()\n",
    "plt.plot(axes, signal)\n",
    "plt.xlabel(axes_label)\n",
    "plt.ylabel(signal_label)\n",
    "plt.title(title)\n"
   ]
  },
  {
   "cell_type": "code",
   "execution_count": null,
   "id": "88d9c494",
   "metadata": {},
   "outputs": [],
   "source": []
  }
 ],
 "metadata": {
  "kernelspec": {
   "display_name": "Python 3",
   "language": "python",
   "name": "python3"
  },
  "language_info": {
   "codemirror_mode": {
    "name": "ipython",
    "version": 3
   },
   "file_extension": ".py",
   "mimetype": "text/x-python",
   "name": "python",
   "nbconvert_exporter": "python",
   "pygments_lexer": "ipython3",
   "version": "3.12.6"
  }
 },
 "nbformat": 4,
 "nbformat_minor": 5
}
